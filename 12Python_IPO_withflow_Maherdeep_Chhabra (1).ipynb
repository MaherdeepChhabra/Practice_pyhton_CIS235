{
  "cells": [
    {
      "cell_type": "markdown",
      "metadata": {
        "id": "UDxZMHuvUcUr"
      },
      "source": [
        "**READ ME FIRST:**\n",
        "\n",
        "Use the code blocks below to answer each quiz question. Use the code blocks below to answer each quiz question. IMPORTANT: Be sure that the text \"# Question 1:\", \"# Question 2:\", and so forth remains in each of your code cells. That is how the auto-grader searches for your responses\n",
        "\n",
        "Only print the output required for each question. Otherwise, the auto-grader may misinterpret your results. See the next code cell below as an an example (leave that code cell in this file):"
      ]
    },
    {
      "cell_type": "code",
      "execution_count": null,
      "metadata": {
        "id": "8zS-7leEUcUs",
        "outputId": "6ad4a0e2-ec2f-4e04-a83e-898bed98ddd8"
      },
      "outputs": [
        {
          "name": "stdout",
          "output_type": "stream",
          "text": [
            "16\n"
          ]
        }
      ],
      "source": [
        "# Question 0: (example)\n",
        "\n",
        "# Create two variables to store the numbers 7 and 9\n",
        "# Add those two variables together and print them\n",
        "\n",
        "x = 7\n",
        "y = 9\n",
        "print(x + y)"
      ]
    },
    {
      "cell_type": "markdown",
      "metadata": {
        "id": "sVh4Q9DEUcUs"
      },
      "source": [
        "**Background**\n",
        "\n",
        "You are a Human Resources manager in charge of calculating employee pay.\n",
        "\n",
        "**Tasks**\n",
        "\n",
        "Create a basic application that calculates the the gross and net pay for three employees working at your company. You can count on there only being three and always three employees. You should collect (as inputs) each employee's name, hours worked, and hourly rate (3 variables x 3 employees = 9 variables). Also collect the tax rate which will be the same for all employees. Finally, print out a nicely formatted table that looks something like the one provided in the MyEducator assessment description.\n",
        "\n",
        "If the number of hours worked is more than 40, then the pay rate should be 1.5 times the amount entered. If the number of hours is more than 60, then the pay rate should be 1.6 times the amount entered. Find a way to use both an elif and nested if statement as you meet this criterion.\n",
        "\n",
        "**Requirements**\n",
        "\n",
        "* Use bold (\\033[1m), underline (\\033[4m), and the color red (\\033[91m) somewhere in the code\n",
        "* You do not need to write code that adds these values into a table data structure. Simply print out the headers and then print out the values one line at a time as they are added. Automatically print out the totals line once three rows of data have been entered."
      ]
    },
    {
      "cell_type": "code",
      "execution_count": 22,
      "metadata": {
        "id": "2jl6Wx2k-ILt",
        "outputId": "2294e58a-146f-4c7f-90db-b9edc7633fad",
        "colab": {
          "base_uri": "https://localhost:8080/"
        }
      },
      "outputs": [
        {
          "output_type": "stream",
          "name": "stdout",
          "text": [
            "Enter the tax rate (e.g., 0.25 or 25%): 0.25\n",
            "Enter your name: Maher\n",
            "Enter number of hours worked: 40\n",
            "Enter your wage: 100\n",
            "Enter your name: Kaus\n",
            "Enter number of hours worked: 50\n",
            "Enter your wage: 100\n",
            "Enter your name: Hich\n",
            "Enter number of hours worked: 70\n",
            "Enter your wage: 100\n",
            "\u001b[1mName         Hours Worked    Hourly Rate      Gross Pay        Net Pay\u001b[0m\n",
            "Maher                  40            100\u001b[91m        4000.00\u001b[0m\u001b[4m        3000.00\u001b[0m\n",
            "Kaus                   50            100\u001b[91m        7500.00\u001b[0m\u001b[4m        5625.00\u001b[0m\n",
            "Hich                   70            100\u001b[91m       11200.00\u001b[0m\u001b[4m        8400.00\u001b[0m\n",
            "\u001b[1mTotals                                  \u001b[91m       22700.00\u001b[0m\u001b[4m       17025.00\u001b[0m\n"
          ]
        }
      ],
      "source": [
        "from pickle import STRING\n",
        "# Question #1: Write all code needed in this cell\n",
        "# Function to collect employee data\n",
        "def collect_employee_data(num_employees):\n",
        "    emp_data = []\n",
        "    for _ in range(num_employees):\n",
        "        name = input(\"Enter your name: \")\n",
        "        hours_worked = int(input(\"Enter number of hours worked: \"))\n",
        "        hourly_rate = int(input(\"Enter your wage: \"))\n",
        "        emp_data.append((name, hours_worked, hourly_rate))\n",
        "    return emp_data\n",
        "\n",
        "# Calculation of PAY based on hours and rate\n",
        "def calculate_pay(hours_worked, hourly_rate):\n",
        "    if hours_worked > 60:\n",
        "        return 1.6 * hourly_rate * hours_worked\n",
        "    elif hours_worked > 40:\n",
        "        return 1.5 * hourly_rate * hours_worked\n",
        "    else:\n",
        "        return hours_worked * hourly_rate\n",
        "\n",
        "# Calculation of net pay after taxes\n",
        "def calculate_net_pay(gross, tax_rate):\n",
        "    return gross * (1 - tax_rate)\n",
        "\n",
        "# Function to print all employee data\n",
        "def print_employee_data(employees, tax_rate):\n",
        "    bold = \"\\033[1m\"\n",
        "    red = \"\\033[91m\"\n",
        "    underline = \"\\033[4m\"\n",
        "    reset = \"\\033[0m\"\n",
        "\n",
        "    print(f\"{bold}{'Name':<10}{'Hours Worked':>15}{'Hourly Rate':>15}{'Gross Pay':>15}{'Net Pay':>15}{reset}\")\n",
        "    total_gross = 0\n",
        "    total_net = 0\n",
        "\n",
        "    for name, hours_worked, hourly_rate in employees:\n",
        "        gross_pay = calculate_pay(hours_worked, hourly_rate)\n",
        "        net_pay = calculate_net_pay(gross_pay, tax_rate)\n",
        "        print(f\"{name:<10}{hours_worked:>15}{hourly_rate:>15}{red}{gross_pay:>15.2f}{reset}{underline}{net_pay:>15.2f}{reset}\")\n",
        "        total_gross += gross_pay\n",
        "        total_net += net_pay\n",
        "\n",
        "    print(f\"{bold}{'Totals':<10}{'':>15}{'':>15}{red}{total_gross:>15.2f}{reset}{underline}{total_net:>15.2f}{reset}\")\n",
        "\n",
        "# Main execution block\n",
        "def main():\n",
        "    tax_rate = float(input(\"Enter the tax rate (e.g., 0.25 or 25%): \"))\n",
        "    num_employees = 3\n",
        "    employees = collect_employee_data(num_employees)\n",
        "    print_employee_data(employees, tax_rate)\n",
        "\n",
        "if __name__ == \"__main__\":\n",
        "    main()\n",
        "\n",
        "\n"
      ]
    },
    {
      "cell_type": "code",
      "execution_count": null,
      "metadata": {
        "id": "W0Xsro8ZUcUs"
      },
      "outputs": [],
      "source": []
    }
  ],
  "metadata": {
    "celltoolbar": "Raw Cell Format",
    "colab": {
      "provenance": []
    },
    "kernelspec": {
      "display_name": "Python 3.9.1 64-bit",
      "language": "python",
      "name": "python3"
    },
    "language_info": {
      "codemirror_mode": {
        "name": "ipython",
        "version": 3
      },
      "file_extension": ".py",
      "mimetype": "text/x-python",
      "name": "python",
      "nbconvert_exporter": "python",
      "pygments_lexer": "ipython3",
      "version": "3.9.1"
    },
    "vscode": {
      "interpreter": {
        "hash": "11938c6bc6919ae2720b4d5011047913343b08a43b18698fd82dedb0d4417594"
      }
    }
  },
  "nbformat": 4,
  "nbformat_minor": 0
}