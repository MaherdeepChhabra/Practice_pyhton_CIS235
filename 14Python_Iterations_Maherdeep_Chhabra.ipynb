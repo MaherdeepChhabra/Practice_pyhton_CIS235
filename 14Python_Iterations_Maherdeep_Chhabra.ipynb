{
  "cells": [
    {
      "cell_type": "markdown",
      "metadata": {
        "id": "LnxH2l5HmnQn"
      },
      "source": [
        "**READ ME FIRST:**\n",
        "\n",
        "Use the code blocks below to answer each quiz question. Use the code blocks below to answer each quiz question. IMPORTANT: Be sure that the text \"# Question 1:\", \"# Question 2:\", and so forth remains in each of your code cells. That is how the auto-grader searches for your responses\n",
        "\n",
        "Only print the output required for each question. Otherwise, the auto-grader may misinterpret your results. See the next code cell below as an an example (leave that code cell in this file):"
      ]
    },
    {
      "cell_type": "code",
      "execution_count": null,
      "metadata": {
        "colab": {
          "base_uri": "https://localhost:8080/"
        },
        "id": "XKnmfp-afT9K",
        "outputId": "78f49b3d-6dd5-40cc-8ba9-4341f487e0f5"
      },
      "outputs": [
        {
          "name": "stdout",
          "output_type": "stream",
          "text": [
            "16\n"
          ]
        }
      ],
      "source": [
        "# Question 0: (example)\n",
        "\n",
        "# Create two variables to store the numbers 7 and 9\n",
        "# Add those two variables together and print them\n",
        "\n",
        "x = 7\n",
        "y = 9\n",
        "print(x + y)"
      ]
    },
    {
      "cell_type": "markdown",
      "metadata": {
        "id": "4C0_7rLCmnQp"
      },
      "source": [
        "Create a list using the following artists names: 'Weird Al', 'Bruno Mars', 'Ricky Martin', 'HP Boyz', 'James Blunt', 'Ne-Yo', 'Paul McCartney', 'Little River Band'\n",
        "\n",
        "Sort it from Z-A. Output the resulting list"
      ]
    },
    {
      "cell_type": "code",
      "execution_count": 1,
      "metadata": {
        "id": "25Uz7hlAgLMT",
        "colab": {
          "base_uri": "https://localhost:8080/"
        },
        "outputId": "a258be31-d829-45fc-ff0f-b31f3bb418c9"
      },
      "outputs": [
        {
          "output_type": "stream",
          "name": "stdout",
          "text": [
            "['Weird Al', 'Ricky Martin', 'Paul McCartney', 'Ne-Yo', 'Little River Band', 'James Blunt', 'HP Boyz', 'Bruno Mars']\n"
          ]
        }
      ],
      "source": [
        "# Question 1:\n",
        "artists_names = ['Weird Al', 'Bruno Mars', 'Ricky Martin', 'HP Boyz', 'James Blunt', 'Ne-Yo', 'Paul McCartney', 'Little River Band']\n",
        "sortedartists_names = sorted(artists_names,reverse=True)\n",
        "print(sortedartists_names)"
      ]
    },
    {
      "cell_type": "markdown",
      "metadata": {
        "id": "91J08LNcmnQp"
      },
      "source": [
        "Add 'Juice Wrld' in the 3rd position of the list (do not remove any of the the current list items). Output the resulting list"
      ]
    },
    {
      "cell_type": "code",
      "execution_count": 2,
      "metadata": {
        "id": "4hr_ixFcjPiX",
        "colab": {
          "base_uri": "https://localhost:8080/"
        },
        "outputId": "6396643f-b823-49ee-f784-97032807ed3e"
      },
      "outputs": [
        {
          "output_type": "stream",
          "name": "stdout",
          "text": [
            "['Weird Al', 'Ricky Martin', 'Juice Wrld', 'Paul McCartney', 'Ne-Yo', 'Little River Band', 'James Blunt', 'HP Boyz', 'Bruno Mars']\n"
          ]
        }
      ],
      "source": [
        "# Question 2:\n",
        "sortedartists_names.insert(2, 'Juice Wrld')\n",
        "print(sortedartists_names)\n"
      ]
    },
    {
      "cell_type": "markdown",
      "metadata": {
        "id": "Fg--XkROmnQp"
      },
      "source": [
        "Make a dictionary that has the artist name as the key and the number of plays at the value. Accomplish this task by iterating through the artist list (from question 2) to populate the dictionary with the play counts you see below.\n",
        "\n",
        "Hint: Using the plays information below, create a list of plays where the order of plays matches the order of the artists in the artist list. Then, iterate through the artist list and add each artist (key) / play count (value) to a new dictionary one-at-a-time\n",
        "\n",
        "Output the resulting dictionary by looping through it a print out each key and value in the format below (minus the bullet points):\n",
        "\n",
        "* Weird Al = 1234821 plays\n",
        "* Ricky Martin = 600000 plays\n",
        "* Juice Wrld = 38765432 plays\n",
        "* Paul McCartney = 98879838 plays\n",
        "* Ne-Yo = 20000 plays\n",
        "* Little River Band = 100 plays\n",
        "* James Blunt = 974545 plays\n",
        "* HP Boyz = 45000 plays\n",
        "* Bruno Mars = 85279 plays"
      ]
    },
    {
      "cell_type": "code",
      "execution_count": 8,
      "metadata": {
        "id": "kbCQCpxzjj-t",
        "colab": {
          "base_uri": "https://localhost:8080/"
        },
        "outputId": "1c19a3fa-3be4-4f3e-91b1-7b25e9e39729"
      },
      "outputs": [
        {
          "output_type": "stream",
          "name": "stdout",
          "text": [
            "Weird Al = 1234821 plays\n",
            "Ricky Martin = 600000 plays\n",
            "Juice Wrld = 38765432 plays\n",
            "Paul McCartney = 98879838 plays\n",
            "Ne-Yo = 20000 plays\n",
            "Little River Band = 100 plays\n",
            "James Blunt = 974545 plays\n",
            "HP Boyz = 45000 plays\n",
            "Bruno Mars = 85279 plays\n"
          ]
        }
      ],
      "source": [
        "# Question 3:\n",
        "plays = [1234821, 600000, 38765432, 98879838, 20000, 100, 974545, 45000, 85279]\n",
        "artist_plays = dict(zip(sortedartists_names, plays))\n",
        "for artists_names, plays_count in artist_plays.items():\n",
        "  print(f\"{artists_names} = {plays_count} plays\")\n"
      ]
    },
    {
      "cell_type": "markdown",
      "metadata": {
        "id": "nmFVJiVpmnQq"
      },
      "source": [
        "Due to technical errors this month all artists lost count of 100 plays.\n",
        "Loop through the artist dictionary (from question 3) and add 100 to the count of plays for all artists.\n",
        "\n",
        "Print the dictionary in any format that includes all keys and values"
      ]
    },
    {
      "cell_type": "code",
      "execution_count": 5,
      "metadata": {
        "id": "0jCj9N4_m6ov",
        "colab": {
          "base_uri": "https://localhost:8080/"
        },
        "outputId": "74d9f35e-db5b-4db9-f82b-ad86c35346c0"
      },
      "outputs": [
        {
          "output_type": "stream",
          "name": "stdout",
          "text": [
            "Weird Al: 1234921\n",
            "Ricky Martin: 600100\n",
            "Juice Wrld: 38765532\n",
            "Paul McCartney: 98879938\n",
            "Ne-Yo: 20100\n",
            "Little River Band: 200\n",
            "James Blunt: 974645\n",
            "HP Boyz: 45100\n",
            "Bruno Mars: 85379\n"
          ]
        }
      ],
      "source": [
        "# Question 4:\n",
        "for artists_names in artist_plays:\n",
        "  artist_plays[artists_names] += 100\n",
        "for artists_names, play_count in artist_plays.items():\n",
        "  print(f\"{artists_names}: {play_count}\")\n",
        "\n"
      ]
    },
    {
      "cell_type": "markdown",
      "metadata": {
        "id": "XgFtVLtEmnQq"
      },
      "source": [
        "Delete all artists that do not have a user-specified number of plays. In other words, ask the user for the minimum play count and then remove all dictionary entries that do not meet the minimum. RULE: You must use a loop to find artists below the minimum play count in case the dictionary is ever modified.\n",
        "\n",
        "HINT: You will need two separate loops: one loop to identify those less than the minimum and another to remove each of those identified from the dictionary. This is because you can't modify a dictionary while you are iterating through it.\n",
        "\n",
        "Print the resulting dictionary after running the code using 50000 as the minimum threshold."
      ]
    },
    {
      "cell_type": "code",
      "execution_count": 6,
      "metadata": {
        "id": "-l2O0v6SneOm",
        "colab": {
          "base_uri": "https://localhost:8080/"
        },
        "outputId": "73424452-0ad1-407f-a2b8-a8d2bf1b8742"
      },
      "outputs": [
        {
          "output_type": "stream",
          "name": "stdout",
          "text": [
            "{'Weird Al': 1234921, 'Ricky Martin': 600100, 'Juice Wrld': 38765532, 'Paul McCartney': 98879938, 'James Blunt': 974645, 'Bruno Mars': 85379}\n"
          ]
        }
      ],
      "source": [
        "# Question 5:\n",
        "minimum_plays = 50000\n",
        "artists_to_remove = [artists_names for artists_names in artist_plays if artist_plays[artists_names] < minimum_plays]\n",
        "for artists_names in artists_to_remove:\n",
        "    del artist_plays[artists_names]\n",
        "print(artist_plays)\n",
        "\n"
      ]
    },
    {
      "cell_type": "markdown",
      "metadata": {
        "id": "Sc4xpL4cmnQq"
      },
      "source": [
        "Isaac and Grays are two listener profiles. Below is a dictionary for Isaac and a dictionary for Grays. 'fav_Artist' is the key and a list of preferred artists are the values. Also below is the all_Artists list. This is a list of all available artists. Isaac likes 'Little River Band', 'Jackson 5', 'HP Boyz', and 'Ne-Yo'. Grays likes all the other artists listed in the all_Artists list (he doesn't like the artists in Isaac's list). Use a loop to update Graysons fav_Artists (update the values to the key 'fav_Artists')\n",
        "\n",
        "HINT: You may want to use 'not in' to find Grays's preferred artists.\n",
        "\n",
        "Output Grays and Isacc's list of perferred bands."
      ]
    },
    {
      "cell_type": "code",
      "execution_count": 7,
      "metadata": {
        "id": "Bukrjr9-rpI9",
        "colab": {
          "base_uri": "https://localhost:8080/"
        },
        "outputId": "e7388ef6-ea08-4683-dac1-4a475979a683"
      },
      "outputs": [
        {
          "output_type": "stream",
          "name": "stdout",
          "text": [
            "Isaac's favorite artists: ['Little River Band', 'Juice Wrld', 'HP Boyz', 'Ne-Yo']\n",
            "Grays's favorite artists: ['Weird Al', 'Bruno Mars', 'Ricky Martin', 'James Blunt', 'Paul McCartney']\n"
          ]
        }
      ],
      "source": [
        "# Question 6:\n",
        "isaac = {'fav_Artists': ['Little River Band', 'Juice Wrld', 'HP Boyz', 'Ne-Yo']}\n",
        "grays = {'fav_Artists': []}\n",
        "all_artists = ['Weird Al', 'Bruno Mars', 'Juice Wrld', 'Ricky Martin', 'HP Boyz', 'James Blunt', 'Ne-Yo', 'Paul McCartney', 'Little River Band']\n",
        "for artists_names in all_artists:\n",
        "  if artists_names not in isaac['fav_Artists']:\n",
        "    grays['fav_Artists'].append(artists_names)\n",
        "print(\"Isaac's favorite artists:\", isaac['fav_Artists'])\n",
        "print(\"Grays's favorite artists:\", grays['fav_Artists'])\n",
        "\n",
        "\n"
      ]
    },
    {
      "cell_type": "markdown",
      "metadata": {
        "id": "qjaGL_k6mnQq"
      },
      "source": [
        "For both Issac and Grays, calculate the total artist plays (the sum of the plays of all their favorite artists).\n",
        "For example, calculate the sum of the number of plays for Little River Band, Juice Wrld, HP Boyz and Ne-Yo to find the total plays for Isaac.\n",
        "\n",
        "Make a new 'all_plays' key in the Isaac dictionary and the Grays dictionary.\n",
        "Insert the total plays of all their favorite artists as the value of the 'all_plays' key.\n",
        "\n",
        "NOTE: Before you run this block of code, run question 3 again to repopulate the artist dictionary.\n",
        "If you ran question 3, but than ran question 4 and 5, you will get an error because questions 4 and 5 make changes to the dictionary.\n",
        "Just push the 'play' button next to question 3 to run it again.\n",
        "\n",
        "Output the resulting dictionaries.\n",
        "\n",
        "According to the counts produced after creating the code for the prior question, who likes more popular music? (i.e. which profile had the most total plays?)"
      ]
    },
    {
      "cell_type": "code",
      "execution_count": 9,
      "metadata": {
        "id": "Bk8CWHb3Sc-i",
        "colab": {
          "base_uri": "https://localhost:8080/"
        },
        "outputId": "a053d588-a13f-4b1b-9538-4836dd0d784d"
      },
      "outputs": [
        {
          "output_type": "stream",
          "name": "stdout",
          "text": [
            "Isaac's Dictionary : {'fav_Artists': ['Little River Band', 'Juice Wrld', 'HP Boyz', 'Ne-Yo'], 'all_plays': 38830532}\n",
            "Gray's Dictionary : {'fav_Artists': ['Weird Al', 'Bruno Mars', 'Ricky Martin', 'James Blunt', 'Paul McCartney'], 'all_plays': 101774483}\n",
            "Grays likes more popular music.\n"
          ]
        }
      ],
      "source": [
        "# Question 7:\n",
        "isaac_total_play = sum(artist_plays[artists_names] for artists_names in isaac['fav_Artists'] if artists_names in artist_plays)\n",
        "isaac['all_plays'] = isaac_total_play\n",
        "grays_total_play = sum(artist_plays[artists_names] for artists_names in grays['fav_Artists'] if artists_names in artist_plays)\n",
        "grays['all_plays'] = grays_total_play\n",
        "print(\"Isaac's Dictionary :\", isaac)\n",
        "print(\"Gray's Dictionary :\", grays)\n",
        "if isaac['all_plays'] > grays['all_plays']:\n",
        "  print(\"Isaac likes more popular music.\")\n",
        "else:\n",
        "  print(\"Grays likes more popular music.\")\n",
        "\n"
      ]
    },
    {
      "cell_type": "code",
      "execution_count": null,
      "metadata": {
        "id": "0kMDP0cEmnQq"
      },
      "outputs": [],
      "source": []
    }
  ],
  "metadata": {
    "colab": {
      "provenance": []
    },
    "kernelspec": {
      "display_name": "Python 3.9.1 64-bit",
      "language": "python",
      "name": "python3"
    },
    "language_info": {
      "codemirror_mode": {
        "name": "ipython",
        "version": 3
      },
      "file_extension": ".py",
      "mimetype": "text/x-python",
      "name": "python",
      "nbconvert_exporter": "python",
      "pygments_lexer": "ipython3",
      "version": "3.9.1"
    },
    "vscode": {
      "interpreter": {
        "hash": "11938c6bc6919ae2720b4d5011047913343b08a43b18698fd82dedb0d4417594"
      }
    }
  },
  "nbformat": 4,
  "nbformat_minor": 0
}