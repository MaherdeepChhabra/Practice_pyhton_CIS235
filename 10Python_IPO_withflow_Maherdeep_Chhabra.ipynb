{
  "cells": [
    {
      "cell_type": "markdown",
      "metadata": {
        "id": "66d7R1pWIP3M"
      },
      "source": [
        "**READ ME FIRST:**\n",
        "\n",
        "Use the code blocks below to answer each quiz question. Use the code blocks below to answer each quiz question. IMPORTANT: Be sure that the text \"# Question 1:\", \"# Question 2:\", and so forth remains in each of your code cells. That is how the auto-grader searches for your responses\n",
        "\n",
        "Only print the output required for each question. Otherwise, the auto-grader may misinterpret your results. See the next code cell below as an an example (leave that code cell in this file):"
      ]
    },
    {
      "cell_type": "code",
      "execution_count": null,
      "metadata": {
        "id": "yQP4FJF0IP3R",
        "outputId": "00197653-4c9a-4775-ceeb-d30a01b4319f"
      },
      "outputs": [
        {
          "name": "stdout",
          "output_type": "stream",
          "text": [
            "16\n"
          ]
        }
      ],
      "source": [
        "# Question 0: (example)\n",
        "\n",
        "# Create two variables to store the numbers 7 and 9\n",
        "# Add those two variables together and print them\n",
        "\n",
        "x = 7\n",
        "y = 9\n",
        "print(x + y)"
      ]
    },
    {
      "cell_type": "markdown",
      "metadata": {
        "id": "suquDQ5zgRCZ"
      },
      "source": [
        "**Requirements**\n",
        "\n",
        "Create five variables to store (note: it doesn't matter what you name the variables):\n",
        "   * A string with your name\n",
        "   * An integer with your age\n",
        "   * A float with a value of 2.9 (this will represent the diameter of a hypothetical circle)\n",
        "   * A float with the value of pi = 3.14159265359\n",
        "   * A float representing the area of a hypothetical circle where area = pi * radius ^ 2\n",
        "      * NOTE: radius = diameter / 2\n",
        "\n",
        "Use those variables in a \"print\" command to display a sentence somewhat like the following:\n",
        "\n",
        "   \"My name is [insert your name]. I am [insert age] years old. And the area of the circle is [insert area]\""
      ]
    },
    {
      "cell_type": "code",
      "execution_count": 21,
      "metadata": {
        "colab": {
          "base_uri": "https://localhost:8080/"
        },
        "id": "k2303wT_8zDL",
        "outputId": "69da99ad-3f1b-43f2-b78b-813b93b83db2"
      },
      "outputs": [
        {
          "output_type": "stream",
          "name": "stdout",
          "text": [
            "My name is Maherdeep. I am 19 years old. And the area of the circle is 6.605198554172975\n"
          ]
        }
      ],
      "source": [
        "# Question 1: Write all code needed in this cell\n",
        "a= \"Maherdeep\"\n",
        "b= 19\n",
        "c= 2.9\n",
        "d= 3.14159265359\n",
        "r= c/2\n",
        "Area = d*r*r\n",
        "print(f\"My name is {a}. I am {b} years old. And the area of the circle is {Area}\")\n",
        "\n"
      ]
    }
  ],
  "metadata": {
    "colab": {
      "provenance": []
    },
    "kernelspec": {
      "display_name": "Python 3.9.1 64-bit",
      "language": "python",
      "name": "python3"
    },
    "language_info": {
      "codemirror_mode": {
        "name": "ipython",
        "version": 3
      },
      "file_extension": ".py",
      "mimetype": "text/x-python",
      "name": "python",
      "nbconvert_exporter": "python",
      "pygments_lexer": "ipython3",
      "version": "3.9.1"
    },
    "vscode": {
      "interpreter": {
        "hash": "11938c6bc6919ae2720b4d5011047913343b08a43b18698fd82dedb0d4417594"
      }
    }
  },
  "nbformat": 4,
  "nbformat_minor": 0
}