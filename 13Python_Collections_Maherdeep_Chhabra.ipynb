{
  "cells": [
    {
      "cell_type": "markdown",
      "metadata": {
        "id": "u5A0ASQUXRny"
      },
      "source": [
        "**READ ME FIRST:**\n",
        "\n",
        "Use the code blocks below to answer each quiz question. Use the code blocks below to answer each quiz question. IMPORTANT: Be sure that the text \"# Question 1:\", \"# Question 2:\", and so forth remains in each of your code cells. That is how the auto-grader searches for your responses\n",
        "\n",
        "Only print the output required for each question. Otherwise, the auto-grader may misinterpret your results. See the next code cell below as an an example (leave that code cell in this file):"
      ]
    },
    {
      "cell_type": "code",
      "execution_count": null,
      "metadata": {
        "id": "XKnmfp-afT9K",
        "outputId": "d72c79bb-5dba-4bd3-ffe0-8c582ca947ae"
      },
      "outputs": [
        {
          "name": "stdout",
          "output_type": "stream",
          "text": [
            "16\n"
          ]
        }
      ],
      "source": [
        "# Question 0: (example)\n",
        "\n",
        "# Create two variables to store the numbers 7 and 9\n",
        "# Add those two variables together and print them\n",
        "\n",
        "x = 7\n",
        "y = 9\n",
        "print(x + y)"
      ]
    },
    {
      "cell_type": "markdown",
      "metadata": {
        "id": "oMDBcnhrXRn1"
      },
      "source": [
        "**Background**\n",
        "\n",
        "You are a human resources (HR) manager in charge of keeping track of employees and their pay rates. To begin, you have created a dictionary to keep track of current employees and their pay. However, your company recently hired several employees who need to be added to this dictionary.\n",
        "\n",
        "You also need to keep track of former, terminated employees. However, you only need to keep track of their names and have, therefore, done so in a python list. If someone is fired they need to be removed from the dictionary and added in the first position of the list, NOT the last.\n",
        "\n",
        "**Tasks**\n",
        "\n",
        "Perform the following tasks in order:\n",
        "\n",
        "* Create the dictionary using the following pay rates: Aubrey = 21.05, Sam = 20.95, Lucia = 15.75, Tyler = 15.75\n",
        "* Create the terminated employees list including the initial names: Benjamin, Sandy\n",
        "* Ask your user if they want to add, remove, or view the current employees.\n",
        "* Depending on what they say add, remove, or show the list and dictionary.\n",
        "* If they are adding, ask how much the new employee is paid and add that to the dictionary with their name.\n",
        "* Finally, print out both the employees dictionary and the terminated list at the end if they edit either of them; but not if they simply viewed them\n",
        "* Place all of this in the code cell for Question 1 in the template provided.\n",
        "* Run this code cell and terminate Sam. Leave the output from that run and save and submit your .ipynb file\n",
        "\n",
        "**Exceptions**\n",
        "\n",
        "Unless your instructor directs otherwise, you do not need to keep track of changes made. For example, if you add a new employee, you do not need to keep track of that new employee across repeated runs of this code cell. You also do not need to validate inputs."
      ]
    },
    {
      "cell_type": "code",
      "execution_count": 1,
      "metadata": {
        "id": "25Uz7hlAgLMT",
        "colab": {
          "base_uri": "https://localhost:8080/"
        },
        "outputId": "c5946b65-8d67-4f4d-d397-ae34a293b516"
      },
      "outputs": [
        {
          "output_type": "stream",
          "name": "stdout",
          "text": [
            "Do you want to add, remove, or view the current employees? :remove\n",
            "Name of the employee you want to remove :Sam\n",
            "Final state of employees: {'Aubrey': 21.05, 'Lucia': 15.75, 'Tyler': 15.75}\n",
            "List of terminated employees: ['Sam', 'Benjamin', 'Sandy']\n"
          ]
        }
      ],
      "source": [
        "# Question 1:\n",
        "employees ={'Aubrey' : 21.05, 'Sam' : 20.95, 'Lucia' : 15.75, 'Tyler' : 15.75}\n",
        "terminated = ['Benjamin', 'Sandy']\n",
        "action = input(\"Do you want to add, remove, or view the current employees? :\")\n",
        "if action.lower() == 'add':\n",
        "  name = input(\"Name of the employee you want to add :\")\n",
        "  pay = float(input(\"Pay of the employee you want to add :\"))\n",
        "  employees[name] = pay\n",
        "elif action.lower() == 'remove':\n",
        "  name = input(\"Name of the employee you want to remove :\")\n",
        "  if name in employees:\n",
        "   del employees [name]\n",
        "   terminated.insert(0,name)\n",
        "  else:\n",
        "   print(\"Employee not found.\")\n",
        "elif action.lower() == 'view':\n",
        "  print(\"Current employees and their pay rate :\")\n",
        "  for name, pay in employees.items():\n",
        "    print(f\"{name}: ${pay:.2f}\")\n",
        "else:\n",
        "  print(\"Invalid action.\")\n",
        "if action.lower() in ['add', 'remove']:\n",
        "  print(\"Final state of employees:\", employees)\n",
        "  print(\"List of terminated employees:\", terminated)\n",
        "\n"
      ]
    },
    {
      "cell_type": "code",
      "execution_count": null,
      "metadata": {
        "id": "urBdMaY7XRn2"
      },
      "outputs": [],
      "source": []
    }
  ],
  "metadata": {
    "colab": {
      "provenance": []
    },
    "kernelspec": {
      "display_name": "Python 3.9.1 64-bit",
      "language": "python",
      "name": "python3"
    },
    "language_info": {
      "codemirror_mode": {
        "name": "ipython",
        "version": 3
      },
      "file_extension": ".py",
      "mimetype": "text/x-python",
      "name": "python",
      "nbconvert_exporter": "python",
      "pygments_lexer": "ipython3",
      "version": "3.9.1"
    },
    "vscode": {
      "interpreter": {
        "hash": "11938c6bc6919ae2720b4d5011047913343b08a43b18698fd82dedb0d4417594"
      }
    }
  },
  "nbformat": 4,
  "nbformat_minor": 0
}